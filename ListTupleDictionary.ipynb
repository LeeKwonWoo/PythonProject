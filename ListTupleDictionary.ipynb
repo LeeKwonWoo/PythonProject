{
 "cells": [
  {
   "cell_type": "code",
   "execution_count": 10,
   "metadata": {},
   "outputs": [
    {
     "name": "stdout",
     "output_type": "stream",
     "text": [
      "[1, 2, 3, 'a', 'b', 'c', 4, 'd']\n",
      "['jj', 'gg', 1, 2, 3, 'a', 'b', 'c', 4, 'd']\n",
      "[1, 2, 3, 7, 'a', 'b', 'c', 4, 'd']\n",
      "['jj', 1, 2, 3, 'a', 'b', 'c', 4, 'd']\n",
      "['jj', 1, 2, 3, 'a', 'c', 4, 'd']\n"
     ]
    }
   ],
   "source": [
    "lst = [1,2,3,'a','b','c']\n",
    "lst11 = ['jj','gg',1,2,3,'a','b','c']\n",
    "lst.append(4)\n",
    "lst11.append(4)\n",
    "lst.append('d')\n",
    "lst11.append('d')\n",
    "print(lst)\n",
    "print(lst11)\n",
    "lst.insert(3,7)\n",
    "lst11.remove('gg')\n",
    "print(lst)\n",
    "print(lst11)\n",
    "del lst11[5]\n",
    "print(lst11)"
   ]
  },
  {
   "cell_type": "code",
   "execution_count": 17,
   "metadata": {},
   "outputs": [
    {
     "name": "stdout",
     "output_type": "stream",
     "text": [
      "김최고\n",
      "전주\n"
     ]
    }
   ],
   "source": [
    "dt = {'Name':\"김최고\", 'city':\"전주\", 'Num':\"123\"}\n",
    "print(dt['Name'])\n",
    "print(dt['city'])"
   ]
  },
  {
   "cell_type": "code",
   "execution_count": 20,
   "metadata": {},
   "outputs": [
    {
     "data": {
      "text/plain": [
       "[2, 5, 8]"
      ]
     },
     "execution_count": 20,
     "metadata": {},
     "output_type": "execute_result"
    }
   ],
   "source": [
    "a = range(10)\n",
    "a = list(range(2,10,3))\n"
   ]
  }
 ],
 "metadata": {
  "kernelspec": {
   "display_name": "Python 3",
   "language": "python",
   "name": "python3"
  },
  "language_info": {
   "codemirror_mode": {
    "name": "ipython",
    "version": 3
   },
   "file_extension": ".py",
   "mimetype": "text/x-python",
   "name": "python",
   "nbconvert_exporter": "python",
   "pygments_lexer": "ipython3",
   "version": "3.8.3"
  }
 },
 "nbformat": 4,
 "nbformat_minor": 4
}
